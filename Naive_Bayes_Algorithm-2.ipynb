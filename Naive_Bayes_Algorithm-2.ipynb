{
  "nbformat": 4,
  "nbformat_minor": 0,
  "metadata": {
    "colab": {
      "provenance": []
    },
    "kernelspec": {
      "name": "python3",
      "display_name": "Python 3"
    },
    "language_info": {
      "name": "python"
    }
  },
  "cells": [
    {
      "cell_type": "code",
      "execution_count": null,
      "metadata": {
        "colab": {
          "base_uri": "https://localhost:8080/"
        },
        "id": "LtAs6pN-xf3n",
        "outputId": "1729413d-acdd-4f7c-f138-a2b9945efa60"
      },
      "outputs": [
        {
          "output_type": "stream",
          "name": "stdout",
          "text": [
            "              precision    recall  f1-score   support\n",
            "\n",
            "           0       0.00      0.00      0.00         2\n",
            "           1       0.67      0.57      0.62         7\n",
            "\n",
            "    accuracy                           0.44         9\n",
            "   macro avg       0.33      0.29      0.31         9\n",
            "weighted avg       0.52      0.44      0.48         9\n",
            "\n"
          ]
        }
      ],
      "source": [
        "from sklearn.model_selection import train_test_split\n",
        "from sklearn.naive_bayes import GaussianNB\n",
        "from sklearn.preprocessing import StandardScaler\n",
        "from sklearn.metrics import classification_report\n",
        "import pandas as pd\n",
        "\n",
        "# Step 1: Read data\n",
        "df = pd.read_csv('fight_data.csv')\n",
        "\n",
        "# Step 2: Drop non-numeric / identifier columns\n",
        "drop_cols = ['fighter1', 'fighter2', 'fight_year']\n",
        "df_model = df.drop(columns=drop_cols)\n",
        "\n",
        "# Step 3: Drop rows with missing values\n",
        "df_model.dropna(inplace=True)\n",
        "\n",
        "# Step 4: Split features and target\n",
        "X = df_model.drop(columns='outcome')\n",
        "y = df_model['outcome']\n",
        "\n",
        "# Step 5: Train-test split\n",
        "X_train, X_test, y_train, y_test = train_test_split(\n",
        "    X, y, test_size=0.2, random_state=42\n",
        ")\n",
        "\n",
        "# Step 6: Scale data\n",
        "scaler = StandardScaler()\n",
        "X_train_scaled = scaler.fit_transform(X_train)\n",
        "X_test_scaled  = scaler.transform(X_test)\n",
        "\n",
        "# Step 7: Train Naive Bayes classifier\n",
        "nb_model = GaussianNB()\n",
        "nb_model.fit(X_train_scaled, y_train)\n",
        "\n",
        "# Step 8: Evaluate\n",
        "y_pred = nb_model.predict(X_test_scaled)\n",
        "print(classification_report(y_test, y_pred))"
      ]
    }
  ]
}